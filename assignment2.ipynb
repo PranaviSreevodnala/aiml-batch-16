{
  "nbformat": 4,
  "nbformat_minor": 0,
  "metadata": {
    "colab": {
      "provenance": [],
      "authorship_tag": "ABX9TyNZG3UOKBb7lCUay1LiO88R",
      "include_colab_link": true
    },
    "kernelspec": {
      "name": "python3",
      "display_name": "Python 3"
    },
    "language_info": {
      "name": "python"
    }
  },
  "cells": [
    {
      "cell_type": "markdown",
      "metadata": {
        "id": "view-in-github",
        "colab_type": "text"
      },
      "source": [
        "<a href=\"https://colab.research.google.com/github/PranaviSreevodnala/aiml-batch-16/blob/main/assignment2.ipynb\" target=\"_parent\"><img src=\"https://colab.research.google.com/assets/colab-badge.svg\" alt=\"Open In Colab\"/></a>"
      ]
    },
    {
      "cell_type": "markdown",
      "source": [],
      "metadata": {
        "id": "9HILBIL5Pwar"
      }
    },
    {
      "cell_type": "markdown",
      "source": [],
      "metadata": {
        "id": "qeiqPMt_-X0E"
      }
    },
    {
      "cell_type": "markdown",
      "source": [],
      "metadata": {
        "id": "HdOJk554KwD7"
      }
    },
    {
      "cell_type": "markdown",
      "source": [],
      "metadata": {
        "id": "engBSlCeKxyg"
      }
    },
    {
      "cell_type": "markdown",
      "source": [
        "Part 1 – Implement Breadth First Search Algorithm using a Queue\n",
        "1. Given a graph with adjacency list and a starting vertex and we have to traverse the\n",
        "graph.\n",
        "2. We will first print the value in the starting vertex,\n",
        "3. Continue to print the value of neighbors of the starting vertex and\n",
        "4. Next move on to the next level after completing the current level till all the vertices of\n",
        "the graph are printed.\n",
        "\n"
      ],
      "metadata": {
        "id": "hLuqRX01PyC4"
      }
    },
    {
      "cell_type": "markdown",
      "source": [],
      "metadata": {
        "id": "vc6NvXtV-aSs"
      }
    },
    {
      "cell_type": "code",
      "source": [
        "from collections import deque\n",
        "\n",
        "def bfs(graph, start_vertex):\n",
        "    # Initialize a queue for BFS\n",
        "    queue = deque([start_vertex])\n",
        "\n",
        "    # Mark the starting vertex as visited\n",
        "    visited = set([start_vertex])\n",
        "\n",
        "    # Process vertices in the queue\n",
        "    while queue:\n",
        "        # Dequeue a vertex from the queue and print its value\n",
        "        current_vertex = queue.popleft()\n",
        "        print(current_vertex, end=' ')\n",
        "\n",
        "        # Visit all neighbors of the current vertex\n",
        "        for neighbor in graph[current_vertex]:\n",
        "            if neighbor not in visited:\n",
        "                # Enqueue the neighbor if it hasn't been visited yet\n",
        "                queue.append(neighbor)\n",
        "                # Mark the neighbor as visited\n",
        "                visited.add(neighbor)\n",
        "\n",
        "# Example usage:\n",
        "# Define an adjacency list representation of the graph\n",
        "graph = {\n",
        "    0: [1, 3],\n",
        "    1: [0, 2, 3],\n",
        "    2: [1, 4, 5],\n",
        "    3: [0, 1, 4],\n",
        "    4: [2, 3, 5],\n",
        "    5: [2, 4],\n",
        "\n",
        "}\n",
        "\n",
        "# Start BFS from vertex 0\n",
        "print(\"BFS Traversal Starting from vertex 0:\")\n",
        "bfs(graph, 0)\n"
      ],
      "metadata": {
        "colab": {
          "base_uri": "https://localhost:8080/"
        },
        "id": "7GlSaw8fQBjX",
        "outputId": "209cc2c9-8b65-444e-b373-c44b34f2a5c5"
      },
      "execution_count": null,
      "outputs": [
        {
          "output_type": "stream",
          "name": "stdout",
          "text": [
            "BFS Traversal Starting from vertex 0:\n",
            "0 1 3 2 4 5 "
          ]
        }
      ]
    },
    {
      "cell_type": "markdown",
      "source": [
        "Part 2 – Implement Depth First Search Algorithm using a Stack\n",
        "0.1 DFS Stack implementations steps to be followed:\n",
        "1. Start at the root node and push it onto the stack.\n",
        "2. Check for any adjacent nodes of the tree and select one node.\n",
        "3. Traverse the entire branch of the selected node and push all the nodes into the stack.\n",
        "4. Upon reaching the end of a branch (no more adjacent nodes) ie nth leaf node, move\n",
        "back by a single step and look for adjacent nodes of the n-1th node.\n",
        "5. If there are adjacent nodes for the n-1th node, traverse those branches and push nodes\n",
        "onto the stack.\n"
      ],
      "metadata": {
        "id": "NqRISFamd2yg"
      }
    },
    {
      "cell_type": "code",
      "source": [
        "def dfs(graph, start_vertex):\n",
        "    stack = [start_vertex]\n",
        "    visited = set()\n",
        "\n",
        "    while stack:\n",
        "        current_vertex = stack.pop()\n",
        "        if current_vertex not in visited:\n",
        "            print(current_vertex, end=' ')\n",
        "            visited.add(current_vertex)\n",
        "            stack.extend(neighbor for neighbor in graph[current_vertex] if neighbor not in visited)\n",
        "\n",
        "# Example usage:\n",
        "# Using the same graph as in the BFS example\n",
        "graph = {\n",
        "    'A': ['B', 'S'],\n",
        "    'B': ['A'],\n",
        "    'C': ['D', 'E', 'F','S'],\n",
        "    'D': ['C'],\n",
        "    'E': ['H', 'C'],\n",
        "    'F': ['C','G'],\n",
        "    'G': ['S','H','F'],\n",
        "    'H': ['G','E'],\n",
        "    'S': ['A','C','G'],\n",
        "}\n",
        "\n",
        "print(\"DFS Traversal starting from vertex A:\")\n",
        "dfs(graph, 'A')\n"
      ],
      "metadata": {
        "colab": {
          "base_uri": "https://localhost:8080/"
        },
        "id": "G0ke0YvMeNzP",
        "outputId": "fab03d42-363c-4990-e8d5-5e8f004769a7"
      },
      "execution_count": null,
      "outputs": [
        {
          "output_type": "stream",
          "name": "stdout",
          "text": [
            "DFS Traversal starting from vertex A:\n",
            "A S G F C E H D B "
          ]
        }
      ]
    },
    {
      "cell_type": "markdown",
      "source": [
        "3\n"
      ],
      "metadata": {
        "id": "oXHGBIiyKz9C"
      }
    },
    {
      "cell_type": "code",
      "source": [
        "import numpy as np\n",
        "from heapq import heappush, heappop\n",
        "\n",
        "def heuristic(a, b):\n",
        "    return np.sqrt((b[0] - a[0])*2 + (b[1] - a[1])*2)\n",
        "\n",
        "def astar(grid, start, goal):\n",
        "    rows, cols = grid.shape\n",
        "    open_set = []  # Priority queue of nodes to be evaluated\n",
        "    closed_set = set()  # Set of nodes already evaluated\n",
        "    came_from = {}  # Map to reconstruct the path\n",
        "\n",
        "    g_score = np.inf * np.ones((rows, cols))  # Cost from start to a node\n",
        "    f_score = np.inf * np.ones((rows, cols))  # Cost from start to goal through a node\n",
        "\n",
        "    g_score[start] = 0\n",
        "    f_score[start] = heuristic(start, goal)\n",
        "\n",
        "    heappush(open_set, (f_score[start], start))\n",
        "\n",
        "    while open_set:\n",
        "        current = heappop(open_set)[1]\n",
        "\n",
        "        if current == goal:\n",
        "            path = reconstruct_path(came_from, current)\n",
        "            return path\n",
        "\n",
        "        closed_set.add(current)\n",
        "\n",
        "        for neighbor in get_neighbors(current, rows, cols):\n",
        "            if neighbor in closed_set:\n",
        "                continue\n",
        "\n",
        "            tentative_g_score = g_score[current] + 1  # Assuming a cost of 1 between adjacent nodes\n",
        "\n",
        "            if tentative_g_score < g_score[neighbor]:\n",
        "                came_from[neighbor] = current\n",
        "                g_score[neighbor] = tentative_g_score\n",
        "                f_score[neighbor] = tentative_g_score + heuristic(neighbor, goal)\n",
        "\n",
        "                if neighbor not in open_set:\n",
        "                    heappush(open_set, (f_score[neighbor], neighbor))\n",
        "\n",
        "    return None  # If the goal is not reachable\n",
        "\n",
        "def get_neighbors(node, rows, cols):\n",
        "    neighbors = []\n",
        "    r, c = node\n",
        "\n",
        "    if r > 0:\n",
        "        neighbors.append((r - 1, c))\n",
        "    if r < rows - 1:\n",
        "        neighbors.append((r + 1, c))\n",
        "    if c > 0:\n",
        "        neighbors.append((r, c - 1))\n",
        "    if c < cols - 1:\n",
        "        neighbors.append((r, c + 1))\n",
        "\n",
        "    return neighbors\n",
        "\n",
        "def reconstruct_path(came_from, current):\n",
        "    total_path = [current]\n",
        "    while current in came_from:\n",
        "        current = came_from[current]\n",
        "        total_path.insert(0, current)\n",
        "    return total_path\n",
        "\n",
        "# Example usage:\n",
        "grid = np.array([\n",
        "    [0, 0, 0, 0, 0],\n",
        "    [0, 1, 1, 0, 0],\n",
        "    [0, 0, 0, 0, 1],\n",
        "    [1, 0, 1, 0, 0],\n",
        "    [0, 0, 0, 0, 0]\n",
        "])\n",
        "\n",
        "start = (0, 0)\n",
        "goal = (4, 4)\n",
        "\n",
        "path = astar(grid, start, goal)\n",
        "\n",
        "if path:\n",
        "    print(\"Path found:\", path)\n",
        "else:\n",
        "    print(\"No path found.\")"
      ],
      "metadata": {
        "colab": {
          "base_uri": "https://localhost:8080/"
        },
        "id": "4I_IvUG9K1AD",
        "outputId": "e5d8db9c-99e8-4fcc-9841-ba57f09552c0"
      },
      "execution_count": null,
      "outputs": [
        {
          "output_type": "stream",
          "name": "stdout",
          "text": [
            "Path found: [(0, 0), (0, 1), (0, 2), (0, 3), (0, 4), (1, 4), (2, 4), (3, 4), (4, 4)]\n"
          ]
        }
      ]
    },
    {
      "cell_type": "markdown",
      "source": [
        "example"
      ],
      "metadata": {
        "id": "cnv2hzPQLlO_"
      }
    },
    {
      "cell_type": "code",
      "source": [],
      "metadata": {
        "id": "TyA5zNtURHwK"
      },
      "execution_count": null,
      "outputs": []
    },
    {
      "cell_type": "code",
      "source": [
        "import numpy as np\n",
        "import heapq\n",
        "\n",
        "class Node:\n",
        "    def __init__(self, state, parent=None, g=0, h=0):\n",
        "        self.state = state\n",
        "        self.parent = parent\n",
        "        self.g = g  # Actual cost from start node to current node\n",
        "        self.h = h  # Heuristic cost estimate from current node to goal\n",
        "\n",
        "    def f(self):\n",
        "        return self.g + self.h\n",
        "\n",
        "def heuristic_cost_estimate(current_state, goal_state):\n",
        "    # Example heuristic for the 8-puzzle: Manhattan distance\n",
        "    return np.sum(np.abs(current_state - goal_state))\n",
        "\n",
        "def get_neighbors(node):\n",
        "    # Implementation of how to generate neighbors for the 8-puzzle\n",
        "    empty_tile_position = np.argwhere(node.state == 0)[0]\n",
        "\n",
        "    neighbors = []\n",
        "\n",
        "    for move in [(0, 1), (1, 0), (0, -1), (-1, 0)]:\n",
        "        new_position = empty_tile_position + move\n",
        "\n",
        "        if 0 <= new_position[0] < 3 and 0 <= new_position[1] < 3:\n",
        "            new_state = node.state.copy()\n",
        "            new_state[empty_tile_position[0], empty_tile_position[1]] = new_state[new_position[0], new_position[1]]\n",
        "            new_state[new_position[0], new_position[1]] = 0\n",
        "            neighbors.append(new_state)\n",
        "\n",
        "    return neighbors\n",
        "\n",
        "def astar(initial_state, goal_state):\n",
        "    open_set = []  # Priority queue for nodes to be evaluated\n",
        "    closed_set = set()  # Set of visited nodes\n",
        "\n",
        "    start_node = Node(initial_state, g=0, h=heuristic_cost_estimate(initial_state, goal_state))\n",
        "    goal_node = Node(goal_state)\n",
        "\n",
        "    heapq.heappush(open_set, (start_node.f(), start_node))\n",
        "\n",
        "    while open_set:\n",
        "        current_node = heapq.heappop(open_set)[1]\n",
        "\n",
        "        if np.array_equal(current_node.state, goal_node.state):\n",
        "            path = []\n",
        "            while current_node:\n",
        "                path.append(current_node.state)\n",
        "                current_node = current_node.parent\n",
        "            return path[::-1]\n",
        "\n",
        "        closed_set.add(tuple(current_node.state))\n",
        "        neighbors = get_neighbors(current_node)\n",
        "\n",
        "        for neighbor_state in neighbors:\n",
        "            if tuple(neighbor_state) not in closed_set:\n",
        "                neighbor_node = Node(neighbor_state, current_node,\n",
        "                                     g=current_node.g + 1,\n",
        "                                     h=heuristic_cost_estimate(neighbor_state, goal_state))\n",
        "                heapq.heappush(open_set, (neighbor_node.f(), neighbor_node))\n",
        "\n",
        "    return None\n",
        "\n",
        "# Example usage:\n",
        "initial_state = np.array([[2, 8, 3], [1, 6, 4], [7, 0, 5]])\n",
        "goal_state = np.array([[1, 2, 3], [8, 0, 4], [7, 6, 5]])\n",
        "\n",
        "result = astar(initial_state, goal_state)\n",
        "\n",
        "if result:\n",
        "    print(\"Path found:\")\n",
        "    for step in result:\n",
        "        print(step)\n",
        "else:\n",
        "    print(\"No path found.\")\n"
      ],
      "metadata": {
        "colab": {
          "base_uri": "https://localhost:8080/",
          "height": 366
        },
        "id": "DMFcTYVqQzzD",
        "outputId": "27c1193d-566f-4495-bb79-a3e9b90e2ed4"
      },
      "execution_count": null,
      "outputs": [
        {
          "output_type": "error",
          "ename": "TypeError",
          "evalue": "unhashable type: 'numpy.ndarray'",
          "traceback": [
            "\u001b[0;31m---------------------------------------------------------------------------\u001b[0m",
            "\u001b[0;31mTypeError\u001b[0m                                 Traceback (most recent call last)",
            "\u001b[0;32m<ipython-input-1-e90b834e4701>\u001b[0m in \u001b[0;36m<cell line: 70>\u001b[0;34m()\u001b[0m\n\u001b[1;32m     68\u001b[0m \u001b[0mgoal_state\u001b[0m \u001b[0;34m=\u001b[0m \u001b[0mnp\u001b[0m\u001b[0;34m.\u001b[0m\u001b[0marray\u001b[0m\u001b[0;34m(\u001b[0m\u001b[0;34m[\u001b[0m\u001b[0;34m[\u001b[0m\u001b[0;36m1\u001b[0m\u001b[0;34m,\u001b[0m \u001b[0;36m2\u001b[0m\u001b[0;34m,\u001b[0m \u001b[0;36m3\u001b[0m\u001b[0;34m]\u001b[0m\u001b[0;34m,\u001b[0m \u001b[0;34m[\u001b[0m\u001b[0;36m8\u001b[0m\u001b[0;34m,\u001b[0m \u001b[0;36m0\u001b[0m\u001b[0;34m,\u001b[0m \u001b[0;36m4\u001b[0m\u001b[0;34m]\u001b[0m\u001b[0;34m,\u001b[0m \u001b[0;34m[\u001b[0m\u001b[0;36m7\u001b[0m\u001b[0;34m,\u001b[0m \u001b[0;36m6\u001b[0m\u001b[0;34m,\u001b[0m \u001b[0;36m5\u001b[0m\u001b[0;34m]\u001b[0m\u001b[0;34m]\u001b[0m\u001b[0;34m)\u001b[0m\u001b[0;34m\u001b[0m\u001b[0;34m\u001b[0m\u001b[0m\n\u001b[1;32m     69\u001b[0m \u001b[0;34m\u001b[0m\u001b[0m\n\u001b[0;32m---> 70\u001b[0;31m \u001b[0mresult\u001b[0m \u001b[0;34m=\u001b[0m \u001b[0mastar\u001b[0m\u001b[0;34m(\u001b[0m\u001b[0minitial_state\u001b[0m\u001b[0;34m,\u001b[0m \u001b[0mgoal_state\u001b[0m\u001b[0;34m)\u001b[0m\u001b[0;34m\u001b[0m\u001b[0;34m\u001b[0m\u001b[0m\n\u001b[0m\u001b[1;32m     71\u001b[0m \u001b[0;34m\u001b[0m\u001b[0m\n\u001b[1;32m     72\u001b[0m \u001b[0;32mif\u001b[0m \u001b[0mresult\u001b[0m\u001b[0;34m:\u001b[0m\u001b[0;34m\u001b[0m\u001b[0;34m\u001b[0m\u001b[0m\n",
            "\u001b[0;32m<ipython-input-1-e90b834e4701>\u001b[0m in \u001b[0;36mastar\u001b[0;34m(initial_state, goal_state)\u001b[0m\n\u001b[1;32m     52\u001b[0m             \u001b[0;32mreturn\u001b[0m \u001b[0mpath\u001b[0m\u001b[0;34m[\u001b[0m\u001b[0;34m:\u001b[0m\u001b[0;34m:\u001b[0m\u001b[0;34m-\u001b[0m\u001b[0;36m1\u001b[0m\u001b[0;34m]\u001b[0m\u001b[0;34m\u001b[0m\u001b[0;34m\u001b[0m\u001b[0m\n\u001b[1;32m     53\u001b[0m \u001b[0;34m\u001b[0m\u001b[0m\n\u001b[0;32m---> 54\u001b[0;31m         \u001b[0mclosed_set\u001b[0m\u001b[0;34m.\u001b[0m\u001b[0madd\u001b[0m\u001b[0;34m(\u001b[0m\u001b[0mtuple\u001b[0m\u001b[0;34m(\u001b[0m\u001b[0mcurrent_node\u001b[0m\u001b[0;34m.\u001b[0m\u001b[0mstate\u001b[0m\u001b[0;34m)\u001b[0m\u001b[0;34m)\u001b[0m\u001b[0;34m\u001b[0m\u001b[0;34m\u001b[0m\u001b[0m\n\u001b[0m\u001b[1;32m     55\u001b[0m         \u001b[0mneighbors\u001b[0m \u001b[0;34m=\u001b[0m \u001b[0mget_neighbors\u001b[0m\u001b[0;34m(\u001b[0m\u001b[0mcurrent_node\u001b[0m\u001b[0;34m)\u001b[0m\u001b[0;34m\u001b[0m\u001b[0;34m\u001b[0m\u001b[0m\n\u001b[1;32m     56\u001b[0m \u001b[0;34m\u001b[0m\u001b[0m\n",
            "\u001b[0;31mTypeError\u001b[0m: unhashable type: 'numpy.ndarray'"
          ]
        }
      ]
    },
    {
      "cell_type": "markdown",
      "source": [
        "3)"
      ],
      "metadata": {
        "id": "TIQVk0-t-c8P"
      }
    },
    {
      "cell_type": "code",
      "source": [
        "from copy import deepcopy\n",
        "import numpy as np\n",
        "import time\n",
        "\n",
        "def bestsolution(state):\n",
        "    bestsol = np.array([], int).reshape(-1, 9)\n",
        "    count = len(state) - 1\n",
        "    while count != -1:\n",
        "        bestsol = np.insert(bestsol, 0, state[count]['puzzle'], 0)\n",
        "        count = (state[count]['parent'])\n",
        "    return bestsol.reshape(-1, 3, 3)\n",
        "\n",
        "\n",
        "# checks for the uniqueness of the iteration(it).\n",
        "def all(checkarray):\n",
        "    set=[]\n",
        "    for it in set:\n",
        "        for checkarray in it:\n",
        "            return 1\n",
        "        else:\n",
        "            return 0\n",
        "\n",
        "\n",
        "# number of misplaced tiles\n",
        "def misplaced_tiles(puzzle,goal):\n",
        "    mscost = np.sum(puzzle != goal) - 1\n",
        "    return mscost if mscost > 0 else 0\n",
        "\n",
        "\n",
        "def coordinates(puzzle):\n",
        "    pos = np.array(range(9))\n",
        "    for p, q in enumerate(puzzle):\n",
        "        pos[q] = p\n",
        "    return pos\n",
        "\n",
        "\n",
        "# start of 8 puzzle evaluvation, using Misplaced tiles heuristics\n",
        "def evaluvate_misplaced(puzzle, goal):\n",
        "    steps = np.array([('up', [0, 1, 2], -3),('down', [6, 7, 8],  3),('left', [0, 3, 6], -1),('right', [2, 5, 8],  1)],\n",
        "                dtype =  [('move',  str, 1),('position', list),('head', int)])\n",
        "\n",
        "    dtstate = [('puzzle',  list),('parent', int),('gn',  int),('hn',  int)]\n",
        "\n",
        "    costg = coordinates(goal)\n",
        "\n",
        "    # initializing the parent, gn and hn, where hn is misplaced_tiles  function call\n",
        "    parent = -1\n",
        "    gn = 0\n",
        "    hn = misplaced_tiles(coordinates(puzzle), costg)\n",
        "    state = np.array([(puzzle, parent, gn, hn)], dtstate)\n",
        "\n",
        "   #priority queues with position as keys and fn as value.\n",
        "    dtpriority = [('position', int),('fn', int)]\n",
        "\n",
        "    priority = np.array([(0, hn)], dtpriority)\n",
        "\n",
        "    while 1:\n",
        "        priority = np.sort(priority, kind='mergesort', order=['fn', 'position'])\n",
        "        position, fn = priority[0]\n",
        "        # sort priority queue using merge sort,the first element is picked for exploring.\n",
        "        priority = np.delete(priority, 0, 0)\n",
        "        puzzle, parent, gn, hn = state[position]\n",
        "        puzzle = np.array(puzzle)\n",
        "\n",
        "        blank = int(np.where(puzzle == 0)[0])\n",
        "\n",
        "        gn = gn + 1\n",
        "        c = 1\n",
        "        start_time = time.time()\n",
        "        for s in steps:\n",
        "            c = c + 1\n",
        "            if blank not in s['position']:\n",
        "                openstates = deepcopy(puzzle)\n",
        "                openstates[blank], openstates[blank + s['head']] = openstates[blank + s['head']], openstates[blank]\n",
        "\n",
        "                if ~(np.all(list(state['puzzle']) == openstates, 1)).any():\n",
        "                    end_time = time.time()\n",
        "                    if (( end_time - start_time ) > 2):\n",
        "                        print(\" The 8 puzzle is unsolvable \\n\")\n",
        "                        break\n",
        "\n",
        "                    hn = misplaced_tiles(coordinates(openstates), costg)\n",
        "                    # generate and add new state in the list\n",
        "                    q = np.array([(openstates, position, gn, hn)], dtstate)\n",
        "                    state = np.append(state, q, 0)\n",
        "                    # f(n) is the sum of cost to reach node\n",
        "                    fn = gn + hn\n",
        "\n",
        "                    q = np.array([(len(state) - 1, fn)], dtpriority)\n",
        "                    priority = np.append(priority, q, 0)\n",
        "\n",
        "                    if np.array_equal(openstates, goal):\n",
        "                        print(' The 8 puzzle is solvable \\n')\n",
        "                        return state, len(priority)\n",
        "\n",
        "    return state, len(priority)\n",
        "\n",
        "\n",
        "# initial state\n",
        "puzzle = []\n",
        "\n",
        "puzzle.append(2)\n",
        "puzzle.append(8)\n",
        "puzzle.append(3)\n",
        "puzzle.append(7)\n",
        "puzzle.append(1)\n",
        "puzzle.append(4)\n",
        "puzzle.append(0)\n",
        "puzzle.append(6)\n",
        "puzzle.append(5)\n",
        "\n",
        "#goal state\n",
        "goal = []\n",
        "\n",
        "goal.append(1)\n",
        "goal.append(2)\n",
        "goal.append(3)\n",
        "goal.append(8)\n",
        "goal.append(0)\n",
        "goal.append(4)\n",
        "goal.append(7)\n",
        "goal.append(6)\n",
        "goal.append(5)\n",
        "\n",
        "\n",
        "state, visited = evaluvate_misplaced(puzzle, goal)\n",
        "bestpath = bestsolution(state)\n",
        "print(str(bestpath).replace('[', ' ').replace(']', ''))\n",
        "totalmoves = len(bestpath) - 1\n",
        "print('\\nSteps to reach goal:',totalmoves)\n",
        "visit = len(state) - visited\n",
        "print('Total nodes visited: ',visit, \"\\n\")\n"
      ],
      "metadata": {
        "id": "q0mORXW--eZN"
      },
      "execution_count": null,
      "outputs": []
    }
  ]
}